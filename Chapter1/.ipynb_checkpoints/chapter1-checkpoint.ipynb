{
 "cells": [
  {
   "cell_type": "code",
   "execution_count": 5,
   "metadata": {},
   "outputs": [],
   "source": [
    "\n",
    "# coding: utf-8\n",
    "import re\n",
    "import random"
   ]
  },
  {
   "cell_type": "code",
   "execution_count": 32,
   "metadata": {},
   "outputs": [
    {
     "name": "stdout",
     "output_type": "stream",
     "text": [
      "desserts\n"
     ]
    }
   ],
   "source": [
    "# No.0\n",
    "# スライス[start:stop:step] 負記号は逆順\n",
    "str0 = \"stressed\"\n",
    "print(str0[::-1])"
   ]
  },
  {
   "cell_type": "code",
   "execution_count": 33,
   "metadata": {},
   "outputs": [
    {
     "name": "stdout",
     "output_type": "stream",
     "text": [
      "パトカー\n"
     ]
    }
   ],
   "source": [
    "# No.1\n",
    "str1 = \"パタトクカシーー\"\n",
    "print(str1[::2])"
   ]
  },
  {
   "cell_type": "code",
   "execution_count": 34,
   "metadata": {},
   "outputs": [
    {
     "name": "stdout",
     "output_type": "stream",
     "text": [
      "パタトクカシーー\n"
     ]
    }
   ],
   "source": [
    "# No.2 (絶対コレジャナイ感)\n",
    "str2a = \"パトカー\"\n",
    "str2b = \"タクシー\"\n",
    "\n",
    "str2 = \"\"\n",
    "\n",
    "for i in range(len(str2a)):\n",
    "    str2 += list(str2a)[i]\n",
    "    str2 += list(str2b)[i]\n",
    "\n",
    "print(str)"
   ]
  },
  {
   "cell_type": "code",
   "execution_count": 35,
   "metadata": {},
   "outputs": [
    {
     "name": "stdout",
     "output_type": "stream",
     "text": [
      "[3, 1, 4, 1, 5, 9, 2, 6, 5, 3, 5, 8, 9, 7, 9]\n"
     ]
    }
   ],
   "source": [
    "# No.3 \n",
    "# re.split() 第1引数:正規表現 第2引数:対象文字列 https://docs.python.org/ja/3/library/re.html\n",
    "# \\Wで[^a-zA-Z0-9_]と同義\n",
    "str3 = \"Now I need a drink, alcoholic of course, after the heavy lectures involving quantum mechanics.\"\n",
    "list3 = re.split('\\W', str3)\n",
    "ans_list3 = []\n",
    "for i in list3:\n",
    "    if(len(i) != 0):\n",
    "        ans_list3.append(len(i))\n",
    "print(ans_list3)"
   ]
  },
  {
   "cell_type": "code",
   "execution_count": 48,
   "metadata": {},
   "outputs": [
    {
     "name": "stdout",
     "output_type": "stream",
     "text": [
      "[{1, 'H'}, {'He', 2}, {'Li', 3}, {'Be', 4}, {5, 'B'}, {'C', 6}, {'N', 7}, {8, 'O'}, {9, 'F'}, {'Ne', 10}, {11, 'Na'}, {'Mi', 12}, {'Al', 13}, {'Si', 14}, {'P', 15}, {16, 'S'}, {17, 'Cl'}, {'Ar', 18}, {19, 'K'}, {'Ca', 20}]\n"
     ]
    }
   ],
   "source": [
    "# No.4\n",
    "str4 = \"Hi He Lied Because Boron Could Not Oxidize Fluorine. New Nations Might Also Sign Peace Security Clause. Arthur King Can.\"\n",
    "sub1 = [1, 5, 6, 7, 8, 9, 15, 16, 19]\n",
    "list4 = re.split('\\W', str4)\n",
    "list4 = [i for i in list4 if len(i) != 0]\n",
    "ans_list4 = []\n",
    "for i , word in enumerate(list4):\n",
    "    if(i+1 in sub1):\n",
    "        sub_word = word[:1]\n",
    "    else:\n",
    "        sub_word = word[:2]\n",
    "    #三項演算子だと下記で書ける\n",
    "#     sub_word = word[:1] if (i+1 in sub1) else word[:2]\n",
    "    ans_list4.append({i+1, sub_word})\n",
    "print(ans_list4)"
   ]
  },
  {
   "cell_type": "code",
   "execution_count": 93,
   "metadata": {},
   "outputs": [
    {
     "name": "stdout",
     "output_type": "stream",
     "text": [
      "word bi-gram: [('I', 'am'), ('am', 'an'), ('an', 'NLPer')]\n",
      "character bi-gram: ['I ', ' a', 'am', 'm ', ' a', 'an', 'n ', ' N', 'NL', 'LP', 'Pe', 'er']\n"
     ]
    }
   ],
   "source": [
    "# No.5\n",
    "str5 = \"I am an NLPer\"\n",
    "\n",
    "# 単語n-gram\n",
    "def word_n_gram(sentence, n):\n",
    "    l = sentence.split()\n",
    "    return [tuple(l[i:i+n]) for i in range(len(l)-n+1)]\n",
    "    \n",
    "# 文字n-gram\n",
    "def char_n_gram(sentence, n):\n",
    "    l = []\n",
    "    for i in range(len(sentence)-n+1):\n",
    "        l.append(sentence[i:i+n])\n",
    "    return l\n",
    "\n",
    "print(\"word bi-gram:\", word_n_gram(str5, 2))\n",
    "print(\"character bi-gram:\", char_n_gram(str5, 2))"
   ]
  },
  {
   "cell_type": "code",
   "execution_count": 95,
   "metadata": {},
   "outputs": [
    {
     "name": "stdout",
     "output_type": "stream",
     "text": [
      "union: {'ap', 'gr', 'ad', 'is', 'ar', 'ph', 'se', 'di', 'ag', 'ra', 'pa'}\n",
      "intersection: {'ar', 'pa', 'ap', 'ra'}\n",
      "difference: {'ad', 'is', 'di', 'se'}\n",
      "x_bool: True\n",
      "y_bool: False\n"
     ]
    }
   ],
   "source": [
    "# No.6\n",
    "str6a = \"paraparaparadise\" \n",
    "str6b = \"paragraph\"\n",
    "\n",
    "X = char_n_gram(str6a, 2)\n",
    "Y = char_n_gram(str6b, 2)\n",
    "\n",
    "r_union = set(X) | set(Y)\n",
    "print(\"union:\", r_union)\n",
    "r_intersection = set(X) & set(Y)\n",
    "print(\"intersection:\", r_intersection)\n",
    "r_difference = set(X) - set(Y)\n",
    "print(\"difference:\", r_difference)\n",
    "\n",
    "x_bool = \"se\" in set(X)\n",
    "y_bool = \"se\" in set(Y)\n",
    "print(\"x_bool:\",x_bool)\n",
    "print(\"y_bool:\",y_bool)"
   ]
  },
  {
   "cell_type": "code",
   "execution_count": 96,
   "metadata": {},
   "outputs": [
    {
     "name": "stdout",
     "output_type": "stream",
     "text": [
      "12時の気温は22.4\n"
     ]
    }
   ],
   "source": [
    "# No.7\n",
    "def create_sentence(x,y,z):\n",
    "    return \"{0}時の{1}は{2}\".format(x,y,z)\n",
    "\n",
    "print(create_sentence(12,\"気温\",22.4))"
   ]
  },
  {
   "cell_type": "code",
   "execution_count": 1,
   "metadata": {},
   "outputs": [
    {
     "name": "stdout",
     "output_type": "stream",
     "text": [
      "qtmmj"
     ]
    }
   ],
   "source": [
    "# No.8\n",
    "# 文字⇨文字コードの取得 : ord関数 　文字コード⇨文字の取得 : chr関数\n",
    "def cipher(sentence):\n",
    "    for s in sentence:\n",
    "        if(s.isalpha()):\n",
    "            cip_s = chr(217-ord(s))\n",
    "            print(cip_s, end=\"\")\n",
    "        else:\n",
    "            print(s, end=\"\")\n",
    "\n",
    "cipher(\"hello\")"
   ]
  },
  {
   "cell_type": "code",
   "execution_count": 20,
   "metadata": {},
   "outputs": [
    {
     "data": {
      "text/plain": [
       "'I cnodlu’t bveelie that I cluod aultalcy udsatnnerd what I was renidag : the pnohnmeeal pewor of the huamn mind .'"
      ]
     },
     "execution_count": 20,
     "metadata": {},
     "output_type": "execute_result"
    }
   ],
   "source": [
    "# No.9\n",
    "def typoglycemia(sentence):\n",
    "    word_list = sentence.split(\" \")\n",
    "    ans_word_list = []\n",
    "    for word in word_list:\n",
    "        if(len(word) <= 4):\n",
    "            ans_word_list.append(word)\n",
    "        else:\n",
    "            first_char = word[0]\n",
    "            last_char = word[-1]\n",
    "            middle_string = word[1:-1]\n",
    "            tmp_l = list(middle_string)\n",
    "            # random.shuffleの戻り地はNone(listを破壊的にshuffle)\n",
    "            random.shuffle(tmp_l)\n",
    "            middle_string = ''.join(tmp_l)\n",
    "            ans_word_list.append(first_char+middle_string+last_char)\n",
    "    return ' '.join(ans_word_list)\n",
    "\n",
    "\n",
    "sentence = \"I couldn’t believe that I could actually understand what I was reading : the phenomenal power of the human mind .\"\n",
    "typoglycemia(sentence)"
   ]
  }
 ],
 "metadata": {
  "kernelspec": {
   "display_name": "Python 3",
   "language": "python",
   "name": "python3"
  },
  "language_info": {
   "codemirror_mode": {
    "name": "ipython",
    "version": 3
   },
   "file_extension": ".py",
   "mimetype": "text/x-python",
   "name": "python",
   "nbconvert_exporter": "python",
   "pygments_lexer": "ipython3",
   "version": "3.6.10"
  }
 },
 "nbformat": 4,
 "nbformat_minor": 4
}
